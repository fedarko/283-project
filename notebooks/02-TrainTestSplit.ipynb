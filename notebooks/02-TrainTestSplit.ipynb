{
 "cells": [
  {
   "cell_type": "markdown",
   "id": "favorite-divorce",
   "metadata": {},
   "source": [
    "# Split the data into training and test sets"
   ]
  },
  {
   "cell_type": "code",
   "execution_count": 2,
   "id": "preliminary-committee",
   "metadata": {},
   "outputs": [],
   "source": [
    "import pandas as pd\n",
    "import matplotlib\n",
    "from matplotlib import pyplot\n",
    "from sklearn.model_selection import train_test_split"
   ]
  },
  {
   "cell_type": "markdown",
   "id": "owned-liberty",
   "metadata": {},
   "source": [
    "## Load metadata"
   ]
  },
  {
   "cell_type": "code",
   "execution_count": 3,
   "id": "cross-skating",
   "metadata": {},
   "outputs": [
    {
     "data": {
      "text/html": [
       "<div>\n",
       "<style scoped>\n",
       "    .dataframe tbody tr th:only-of-type {\n",
       "        vertical-align: middle;\n",
       "    }\n",
       "\n",
       "    .dataframe tbody tr th {\n",
       "        vertical-align: top;\n",
       "    }\n",
       "\n",
       "    .dataframe thead th {\n",
       "        text-align: right;\n",
       "    }\n",
       "</style>\n",
       "<table border=\"1\" class=\"dataframe\">\n",
       "  <thead>\n",
       "    <tr style=\"text-align: right;\">\n",
       "      <th></th>\n",
       "      <th>Age</th>\n",
       "      <th>Gender</th>\n",
       "      <th>Status</th>\n",
       "      <th>TotalNumReads</th>\n",
       "      <th>NumUniquelyMappedReads</th>\n",
       "      <th>UniquelyMappedReadsPercentage</th>\n",
       "    </tr>\n",
       "    <tr>\n",
       "      <th>SampleID</th>\n",
       "      <th></th>\n",
       "      <th></th>\n",
       "      <th></th>\n",
       "      <th></th>\n",
       "      <th></th>\n",
       "      <th></th>\n",
       "    </tr>\n",
       "  </thead>\n",
       "  <tbody>\n",
       "    <tr>\n",
       "      <th>C1</th>\n",
       "      <td>34.44</td>\n",
       "      <td>Female</td>\n",
       "      <td>C-R</td>\n",
       "      <td>7,293,272</td>\n",
       "      <td>6,044,825</td>\n",
       "      <td>82.88%</td>\n",
       "    </tr>\n",
       "    <tr>\n",
       "      <th>C2</th>\n",
       "      <td>43.35</td>\n",
       "      <td>Female</td>\n",
       "      <td>C-R</td>\n",
       "      <td>7,870,895</td>\n",
       "      <td>6,526,361</td>\n",
       "      <td>82.92%</td>\n",
       "    </tr>\n",
       "    <tr>\n",
       "      <th>C3</th>\n",
       "      <td>43.85</td>\n",
       "      <td>Female</td>\n",
       "      <td>C-R</td>\n",
       "      <td>6,622,312</td>\n",
       "      <td>5,620,525</td>\n",
       "      <td>84.87%</td>\n",
       "    </tr>\n",
       "    <tr>\n",
       "      <th>C4</th>\n",
       "      <td>41.42</td>\n",
       "      <td>Female</td>\n",
       "      <td>C-R</td>\n",
       "      <td>8,248,171</td>\n",
       "      <td>7,041,599</td>\n",
       "      <td>85.37%</td>\n",
       "    </tr>\n",
       "    <tr>\n",
       "      <th>C5</th>\n",
       "      <td>42.12</td>\n",
       "      <td>Female</td>\n",
       "      <td>C-R</td>\n",
       "      <td>9,233,397</td>\n",
       "      <td>7,922,603</td>\n",
       "      <td>85.80%</td>\n",
       "    </tr>\n",
       "    <tr>\n",
       "      <th>...</th>\n",
       "      <td>...</td>\n",
       "      <td>...</td>\n",
       "      <td>...</td>\n",
       "      <td>...</td>\n",
       "      <td>...</td>\n",
       "      <td>...</td>\n",
       "    </tr>\n",
       "    <tr>\n",
       "      <th>N28</th>\n",
       "      <td>29.00</td>\n",
       "      <td>Female</td>\n",
       "      <td>N</td>\n",
       "      <td>8,579,794</td>\n",
       "      <td>7,286,744</td>\n",
       "      <td>84.93%</td>\n",
       "    </tr>\n",
       "    <tr>\n",
       "      <th>N29</th>\n",
       "      <td>32.00</td>\n",
       "      <td>Female</td>\n",
       "      <td>N</td>\n",
       "      <td>10,808,607</td>\n",
       "      <td>8,789,442</td>\n",
       "      <td>81.32%</td>\n",
       "    </tr>\n",
       "    <tr>\n",
       "      <th>N30</th>\n",
       "      <td>41.00</td>\n",
       "      <td>Female</td>\n",
       "      <td>N</td>\n",
       "      <td>7,312,205</td>\n",
       "      <td>5,604,035</td>\n",
       "      <td>76.64%</td>\n",
       "    </tr>\n",
       "    <tr>\n",
       "      <th>N31</th>\n",
       "      <td>42.00</td>\n",
       "      <td>Female</td>\n",
       "      <td>N</td>\n",
       "      <td>9,232,461</td>\n",
       "      <td>6,992,056</td>\n",
       "      <td>75.73%</td>\n",
       "    </tr>\n",
       "    <tr>\n",
       "      <th>N32</th>\n",
       "      <td>32.00</td>\n",
       "      <td>Male</td>\n",
       "      <td>N</td>\n",
       "      <td>8,964,442</td>\n",
       "      <td>7,278,097</td>\n",
       "      <td>81.19%</td>\n",
       "    </tr>\n",
       "  </tbody>\n",
       "</table>\n",
       "<p>128 rows × 6 columns</p>\n",
       "</div>"
      ],
      "text/plain": [
       "            Age  Gender Status TotalNumReads NumUniquelyMappedReads  \\\n",
       "SampleID                                                              \n",
       "C1        34.44  Female    C-R     7,293,272              6,044,825   \n",
       "C2        43.35  Female    C-R     7,870,895              6,526,361   \n",
       "C3        43.85  Female    C-R     6,622,312              5,620,525   \n",
       "C4        41.42  Female    C-R     8,248,171              7,041,599   \n",
       "C5        42.12  Female    C-R     9,233,397              7,922,603   \n",
       "...         ...     ...    ...           ...                    ...   \n",
       "N28       29.00  Female      N     8,579,794              7,286,744   \n",
       "N29       32.00  Female      N    10,808,607              8,789,442   \n",
       "N30       41.00  Female      N     7,312,205              5,604,035   \n",
       "N31       42.00  Female      N     9,232,461              6,992,056   \n",
       "N32       32.00    Male      N     8,964,442              7,278,097   \n",
       "\n",
       "         UniquelyMappedReadsPercentage  \n",
       "SampleID                                \n",
       "C1                              82.88%  \n",
       "C2                              82.92%  \n",
       "C3                              84.87%  \n",
       "C4                              85.37%  \n",
       "C5                              85.80%  \n",
       "...                                ...  \n",
       "N28                             84.93%  \n",
       "N29                             81.32%  \n",
       "N30                             76.64%  \n",
       "N31                             75.73%  \n",
       "N32                             81.19%  \n",
       "\n",
       "[128 rows x 6 columns]"
      ]
     },
     "execution_count": 3,
     "metadata": {},
     "output_type": "execute_result"
    }
   ],
   "source": [
    "sample_metadata = pd.read_csv(\"../data/merged_metadata.tsv\", sep=\"\\t\", index_col=0)\n",
    "sample_metadata"
   ]
  },
  {
   "cell_type": "markdown",
   "id": "eleven-level",
   "metadata": {},
   "source": [
    "## Split the metadata based on the `Status` column\n",
    "\n",
    "There are three possible `Status` values: `C-R` (cancer sample - recurrent), `C-N` (cancer sample - nonrecurrent), and `N` (non-cancer sample). Let's split up samples from each of these three categories into training and test, so that we have six groups total."
   ]
  },
  {
   "cell_type": "code",
   "execution_count": 4,
   "id": "exposed-zealand",
   "metadata": {},
   "outputs": [
    {
     "name": "stdout",
     "output_type": "stream",
     "text": [
      "The 3 unique statuses are C-N, C-R, N.\n"
     ]
    }
   ],
   "source": [
    "status_vals = sorted(list(sample_metadata[\"Status\"].unique()))\n",
    "print(f\"The {len(status_vals)} unique statuses are {', '.join(status_vals)}.\")"
   ]
  },
  {
   "cell_type": "markdown",
   "id": "dietary-harris",
   "metadata": {},
   "source": [
    "### Sidenote: How many samples are there from each group?"
   ]
  },
  {
   "cell_type": "code",
   "execution_count": 5,
   "id": "amino-cookie",
   "metadata": {
    "scrolled": false
   },
   "outputs": [
    {
     "name": "stdout",
     "output_type": "stream",
     "text": [
      "C-N    68\n",
      "N      32\n",
      "C-R    28\n",
      "Name: Status, dtype: int64 Index(['C-N', 'N', 'C-R'], dtype='object')\n",
      "x ['C-N', 'C-R', 'N']\n",
      "y [68, 28, 32]\n"
     ]
    },
    {
     "data": {
      "image/png": "[encoded data removed]",
      "text/plain": [
       "<matplotlib.figure.Figure at 0x7f29eccedf60>"
      ]
     },
     "metadata": {
      "needs_background": "light"
     },
     "output_type": "display_data"
    }
   ],
   "source": [
    "val_counts = sample_metadata[\"Status\"].value_counts()\n",
    "print(val_counts, val_counts.index)\n",
    "x = status_vals\n",
    "y = [val_counts[s] for s in x]\n",
    "\n",
    "print(\"x\", x)\n",
    "print(\"y\", y)\n",
    "\n",
    "fig, ax = pyplot.subplots(1)\n",
    "ax.bar(x, y, color=[\"#007799\", \"#cc3300\", \"#00cc00\"], zorder=100)\n",
    "ax.set_xlabel(\"Status\", fontsize=13)\n",
    "ax.set_ylabel(\"Number of samples with this status\", fontsize=13)\n",
    "ax.set_title(\"Sample status frequency\", fontsize=16)\n",
    "\n",
    "# Draw a horizontal grid, but behind the bars: to do this we use distinct zorders.\n",
    "# From https://stackoverflow.com/a/23358722.\n",
    "ax.grid(axis=\"y\", zorder=0)\n",
    "\n",
    "# To make the plot look prettier (?) hide the top and right lines. From https://stackoverflow.com/a/28720127.\n",
    "ax.spines['top'].set_visible(False)\n",
    "ax.spines['right'].set_visible(False)\n",
    "\n",
    "fig.savefig(\"../figs/sample_status_freq.png\", bbox_inches=\"tight\")"
   ]
  },
  {
   "cell_type": "markdown",
   "id": "numerous-latino",
   "metadata": {},
   "source": [
    "As we can see, we've got many more `C-N` samples than `C-R` or `N` samples."
   ]
  },
  {
   "cell_type": "markdown",
   "id": "geological-snowboard",
   "metadata": {},
   "source": [
    "### Actually split up the dataset\n",
    "\n",
    "We'll create a new `TrainTest` column and export a \"final\" sample metadata file that includes this column."
   ]
  },
  {
   "cell_type": "code",
   "execution_count": 6,
   "id": "egyptian-conference",
   "metadata": {},
   "outputs": [
    {
     "name": "stdout",
     "output_type": "stream",
     "text": [
      "For status C-N, which has 68 samples, there are 17 / 68 (25.0%) test samples and 51 / 68 (75.0%) training samples.\n",
      "For status C-R, which has 28 samples, there are 7 / 28 (25.0%) test samples and 21 / 28 (75.0%) training samples.\n",
      "For status N, which has 32 samples, there are 8 / 32 (25.0%) test samples and 24 / 32 (75.0%) training samples.\n"
     ]
    }
   ],
   "source": [
    "sample_metadata[\"TrainTest\"] = \"\"\n",
    "for s in status_vals:\n",
    "    samples_with_status = sample_metadata.loc[sample_metadata[\"Status\"] == s]\n",
    "    \n",
    "    # We use the default split amounts provided by train_test_split: 25% test, 75% training. Since the\n",
    "    # numbers of samples we have in each status group are all divisible by 4, this works out nicely.\n",
    "    #\n",
    "    # Use of train_test_split() and a random state for consistency's sake suggested by\n",
    "    # https://machinelearningmastery.com/train-test-split-for-evaluating-machine-learning-algorithms/.\n",
    "    training_samples, test_samples = train_test_split(samples_with_status.index, random_state=333)\n",
    "    \n",
    "    # Iteration is sorta inefficient in pandas, but since this DF only has 128 rows it really doesn't matter\n",
    "    for sample in training_samples:\n",
    "        sample_metadata.loc[sample, \"TrainTest\"] = \"Training\"\n",
    "    for sample in test_samples:\n",
    "        sample_metadata.loc[sample, \"TrainTest\"] = \"Test\"\n",
    "    \n",
    "    print((\n",
    "        f\"For status {s}, which has {val_counts[s]} samples, there are \"\n",
    "        f\"{len(test_samples)} / {val_counts[s]} ({100 * len(test_samples) / val_counts[s]:.1f}%) \"\n",
    "        \"test samples and \"\n",
    "        f\"{len(training_samples)} / {val_counts[s]} ({100 * len(training_samples) / val_counts[s]:.1f}%) \"\n",
    "        \"training samples.\"\n",
    "    ))\n",
    "sample_metadata.to_csv(\"../data/final_metadata.tsv\", sep=\"\\t\")"
   ]
  },
  {
   "cell_type": "code",
   "execution_count": null,
   "id": "informational-duplicate",
   "metadata": {},
   "outputs": [],
   "source": []
  }
 ],
 "metadata": {
  "kernelspec": {
   "display_name": "Python (qiime2-2021.2)",
   "language": "python",
   "name": "myenv"
  },
  "language_info": {
   "codemirror_mode": {
    "name": "ipython",
    "version": 3
   },
   "file_extension": ".py",
   "mimetype": "text/x-python",
   "name": "python",
   "nbconvert_exporter": "python",
   "pygments_lexer": "ipython3",
   "version": "3.6.13"
  }
 },
 "nbformat": 4,
 "nbformat_minor": 5
}
